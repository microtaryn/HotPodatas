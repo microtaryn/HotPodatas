{
 "cells": [
  {
   "cell_type": "code",
   "execution_count": 11,
   "id": "76a3da7f",
   "metadata": {},
   "outputs": [],
   "source": [
    "import pandas as pd"
   ]
  },
  {
   "cell_type": "code",
   "execution_count": 12,
   "id": "d77c349b",
   "metadata": {},
   "outputs": [],
   "source": [
    "def get_headers():\n",
    "    infile = open(\"CDC_data.csv\",\"r\")\n",
    "    header = infile.readline()\n",
    "    headers = header.strip().split(\",\")\n",
    "    return headers"
   ]
  },
  {
   "cell_type": "code",
   "execution_count": 13,
   "id": "c9582308",
   "metadata": {},
   "outputs": [],
   "source": [
    "def get_count_d(county_d, county):\n",
    "    my_d = {}\n",
    "    for key in county_d[county]:\n",
    "        raceDict = {}\n",
    "        for item in county_d[county][key]:\n",
    "            raceDict[item] = raceDict.get(item, 0) + 1\n",
    "        my_d[key] = raceDict\n",
    "    return my_d"
   ]
  },
  {
   "cell_type": "code",
   "execution_count": 14,
   "id": "303ffe79",
   "metadata": {},
   "outputs": [
    {
     "name": "stdout",
     "output_type": "stream",
     "text": [
      "    if (county == 'LOS ANGELES' and race in races and age_group in ageGroups):\n",
      "        county_d['LOS ANGELES'].setdefault(age_group,[]).append(race)\n",
      "    elif (county == 'MARICOPA' and race in races and age_group in ageGroups):\n",
      "        county_d['MARICOPA'].setdefault(age_group,[]).append(race)\n",
      "    elif (county == 'COOK' and race in races and age_group in ageGroups):\n",
      "        county_d['COOK'].setdefault(age_group,[]).append(race)\n",
      "    elif (county == 'MIAMI-DADE' and race in races and age_group in ageGroups):\n",
      "        county_d['MIAMI-DADE'].setdefault(age_group,[]).append(race)\n",
      "    elif (county == 'ORANGE' and race in races and age_group in ageGroups):\n",
      "        county_d['ORANGE'].setdefault(age_group,[]).append(race)\n",
      "    elif (county == 'CLARK' and race in races and age_group in ageGroups):\n",
      "        county_d['CLARK'].setdefault(age_group,[]).append(race)\n",
      "    elif (county == 'RIVERSIDE' and race in races and age_group in ageGroups):\n",
      "        county_d['RIVERSIDE'].setdefault(age_group,[]).append(race)\n",
      "    elif (county == 'SAN DIEGO' and race in races and age_group in ageGroups):\n",
      "        county_d['SAN DIEGO'].setdefault(age_group,[]).append(race)\n",
      "    elif (county == 'KINGS' and race in races and age_group in ageGroups):\n",
      "        county_d['KINGS'].setdefault(age_group,[]).append(race)\n",
      "    elif (county == 'SAN BERNARDINO' and race in races and age_group in ageGroups):\n",
      "        county_d['SAN BERNARDINO'].setdefault(age_group,[]).append(race)\n",
      "    elif (county == 'SUFFOLK' and race in races and age_group in ageGroups):\n",
      "        county_d['SUFFOLK'].setdefault(age_group,[]).append(race)\n",
      "    elif (county == 'MONTGOMERY' and race in races and age_group in ageGroups):\n",
      "        county_d['MONTGOMERY'].setdefault(age_group,[]).append(race)\n",
      "    elif (county == 'QUEENS' and race in races and age_group in ageGroups):\n",
      "        county_d['QUEENS'].setdefault(age_group,[]).append(race)\n",
      "    elif (county == 'MIDDLESEX' and race in races and age_group in ageGroups):\n",
      "        county_d['MIDDLESEX'].setdefault(age_group,[]).append(race)\n",
      "    elif (county == 'WASHINGTON' and race in races and age_group in ageGroups):\n",
      "        county_d['WASHINGTON'].setdefault(age_group,[]).append(race)\n",
      "    elif (county == 'BROWARD' and race in races and age_group in ageGroups):\n",
      "        county_d['BROWARD'].setdefault(age_group,[]).append(race)\n",
      "    elif (county == 'FRANKLIN' and race in races and age_group in ageGroups):\n",
      "        county_d['FRANKLIN'].setdefault(age_group,[]).append(race)\n",
      "    elif (county == 'JEFFERSON' and race in races and age_group in ageGroups):\n",
      "        county_d['JEFFERSON'].setdefault(age_group,[]).append(race)\n",
      "    elif (county == 'NASSAU' and race in races and age_group in ageGroups):\n",
      "        county_d['NASSAU'].setdefault(age_group,[]).append(race)\n",
      "    elif (county == 'MARION' and race in races and age_group in ageGroups):\n",
      "        county_d['MARION'].setdefault(age_group,[]).append(race)\n"
     ]
    }
   ],
   "source": [
    "def get_top_county_d():\n",
    "    county_d = {}\n",
    "    infile = open(\"counties.csv\",'r')\n",
    "    lines = infile.readlines()\n",
    "    county_names = []\n",
    "    for line in lines:\n",
    "        tokens = line.strip().split(\",\")\n",
    "        county_names.append(tokens[0].upper())\n",
    "        county_d[tokens[0].upper()] = {}\n",
    "    return county_d, county_names\n",
    "county_d, county_names = get_top_county_d()  \n",
    "\n",
    "races = [\"White\",\"Black\",\"Multiple/Other\",\"Asian\",\"American Indian/Alaska Native\",\"Native Hawaiian/Other Pacific Islander\"]\n",
    "ageGroups = [\"18 to 49 years\",\"50 to 64 years\",\"0 - 17 years\",\"65+ years\"]\n",
    "for i in range(0, len(county_names)):\n",
    "    if (i == 0):\n",
    "        print(\"    if (county == '\" + county_names[i] + \"' and race in races and age_group in ageGroups):\")\n",
    "        print(\"        county_d['\" + county_names[i] + \"'].setdefault(age_group,[]).append(race)\")\n",
    "    else:\n",
    "        print(\"    elif (county == '\" + county_names[i] + \"' and race in races and age_group in ageGroups):\")\n",
    "        print(\"        county_d['\" + county_names[i] + \"'].setdefault(age_group,[]).append(race)\")"
   ]
  },
  {
   "cell_type": "code",
   "execution_count": 16,
   "id": "2a1edc24",
   "metadata": {},
   "outputs": [],
   "source": [
    "county_d, county_names = get_top_county_d()\n",
    "infile = open(\"CDC_data.csv\",\"r\")\n",
    "header = infile.readline()\n",
    "headers = header.strip().split(\",\")\n",
    "#print(headers)\n",
    "count = 0\n",
    "lines = []\n",
    "while (True):\n",
    "    line = infile.readline().strip()\n",
    "    tokens = line.split(\",\")\n",
    "    if (len(tokens) > 1):\n",
    "        county = tokens[headers.index(\"res_county\")]\n",
    "        if county in county_names:\n",
    "            lines.append(line)\n",
    "    if (line == \"\"):\n",
    "        break\n",
    "\n",
    "races = [\"White\",\"Black\",\"Multiple/Other\",\"Asian\",\"American Indian/Alaska Native\",\"Native Hawaiian/Other Pacific Islander\"]\n",
    "ageGroups = [\"18 to 49 years\",\"50 to 64 years\",\"0 - 17 years\",\"65+ years\"]\n",
    "for line in lines:\n",
    "    tokens = line.strip().split(\",\")\n",
    "    county = tokens[headers.index(\"res_county\")]\n",
    "    age_group = tokens[headers.index(\"age_group\")]\n",
    "    race = tokens[headers.index(\"race\")]\n",
    "    if (county == 'LOS ANGELES' and race in races and age_group in ageGroups):\n",
    "        county_d['LOS ANGELES'].setdefault(age_group,[]).append(race)\n",
    "    elif (county == 'MARICOPA' and race in races and age_group in ageGroups):\n",
    "        county_d['MARICOPA'].setdefault(age_group,[]).append(race)\n",
    "    elif (county == 'COOK' and race in races and age_group in ageGroups):\n",
    "        county_d['COOK'].setdefault(age_group,[]).append(race)\n",
    "    elif (county == 'MIAMI-DADE' and race in races and age_group in ageGroups):\n",
    "        county_d['MIAMI-DADE'].setdefault(age_group,[]).append(race)\n",
    "    elif (county == 'ORANGE' and race in races and age_group in ageGroups):\n",
    "        county_d['ORANGE'].setdefault(age_group,[]).append(race)\n",
    "    elif (county == 'CLARK' and race in races and age_group in ageGroups):\n",
    "        county_d['CLARK'].setdefault(age_group,[]).append(race)\n",
    "    elif (county == 'RIVERSIDE' and race in races and age_group in ageGroups):\n",
    "        county_d['RIVERSIDE'].setdefault(age_group,[]).append(race)\n",
    "    elif (county == 'SAN DIEGO' and race in races and age_group in ageGroups):\n",
    "        county_d['SAN DIEGO'].setdefault(age_group,[]).append(race)\n",
    "    elif (county == 'KINGS' and race in races and age_group in ageGroups):\n",
    "        county_d['KINGS'].setdefault(age_group,[]).append(race)\n",
    "    elif (county == 'SAN BERNARDINO' and race in races and age_group in ageGroups):\n",
    "        county_d['SAN BERNARDINO'].setdefault(age_group,[]).append(race)\n",
    "    elif (county == 'SUFFOLK' and race in races and age_group in ageGroups):\n",
    "        county_d['SUFFOLK'].setdefault(age_group,[]).append(race)\n",
    "    elif (county == 'MONTGOMERY' and race in races and age_group in ageGroups):\n",
    "        county_d['MONTGOMERY'].setdefault(age_group,[]).append(race)\n",
    "    elif (county == 'QUEENS' and race in races and age_group in ageGroups):\n",
    "        county_d['QUEENS'].setdefault(age_group,[]).append(race)\n",
    "    elif (county == 'MIDDLESEX' and race in races and age_group in ageGroups):\n",
    "        county_d['MIDDLESEX'].setdefault(age_group,[]).append(race)\n",
    "    elif (county == 'WASHINGTON' and race in races and age_group in ageGroups):\n",
    "        county_d['WASHINGTON'].setdefault(age_group,[]).append(race)\n",
    "    elif (county == 'BROWARD' and race in races and age_group in ageGroups):\n",
    "        county_d['BROWARD'].setdefault(age_group,[]).append(race)\n",
    "    elif (county == 'FRANKLIN' and race in races and age_group in ageGroups):\n",
    "        county_d['FRANKLIN'].setdefault(age_group,[]).append(race)\n",
    "    elif (county == 'JEFFERSON' and race in races and age_group in ageGroups):\n",
    "        county_d['JEFFERSON'].setdefault(age_group,[]).append(race)\n",
    "    elif (county == 'NASSAU' and race in races and age_group in ageGroups):\n",
    "        county_d['NASSAU'].setdefault(age_group,[]).append(race)\n",
    "    elif (county == 'MARION' and race in races and age_group in ageGroups):\n",
    "        county_d['MARION'].setdefault(age_group,[]).append(race)\n",
    "\n",
    "LA_age_race_d = get_count_d(county_d, 'LOS ANGELES')\n",
    "#print(LA_age_race_d)\n",
    "maricopa_age_race_d = get_count_d(county_d, 'MARICOPA')\n",
    "cook_age_race_d = get_count_d(county_d, 'COOK')\n",
    "miamiD_age_race_d = get_count_d(county_d, 'MIAMI-DADE')\n",
    "orange_age_race_d = get_count_d(county_d, 'ORANGE')\n",
    "clark_age_race_d = get_count_d(county_d, 'CLARK')\n",
    "rivers_age_race_d = get_count_d(county_d, 'RIVERSIDE')\n",
    "sanD_age_race_d = get_count_d(county_d, 'SAN DIEGO')\n",
    "kings_age_race_d = get_count_d(county_d, 'KINGS')\n",
    "sanB_age_race_d = get_count_d(county_d, 'SAN BERNARDINO')\n",
    "suffolk_age_race_d = get_count_d(county_d, 'SUFFOLK')\n",
    "montgom_age_race_d = get_count_d(county_d, 'MONTGOMERY')\n",
    "queens_age_race_d = get_count_d(county_d, 'QUEENS')\n",
    "middles_age_race_d = get_count_d(county_d, 'MIDDLESEX')\n",
    "wash_age_race_d = get_count_d(county_d, 'WASHINGTON')\n",
    "broward_age_race_d = get_count_d(county_d, 'BROWARD')\n",
    "franklin_age_race_d = get_count_d(county_d, 'FRANKLIN')\n",
    "jeff_age_race_d = get_count_d(county_d, 'JEFFERSON')\n",
    "nassau_age_race_d = get_count_d(county_d, 'NASSAU')\n",
    "marion_age_race_d = get_count_d(county_d, 'MARION')"
   ]
  },
  {
   "cell_type": "code",
   "execution_count": 55,
   "id": "c0b85126",
   "metadata": {},
   "outputs": [
    {
     "name": "stdout",
     "output_type": "stream",
     "text": [
      "{'0 - 17 years': {'American Indian/Alaska Native': 726, 'Asian': 5853, 'Black': 9350, 'Native Hawaiian/Other Pacific Islander': 544, 'White': 42629, 'Multiple/Other': 12478}, '18 to 49 years': {'American Indian/Alaska Native': 4217, 'Asian': 37869, 'Black': 40031, 'Native Hawaiian/Other Pacific Islander': 4033, 'White': 168785, 'Multiple/Other': 38977}, '50 to 64 years': {'American Indian/Alaska Native': 972, 'Asian': 14994, 'Black': 15115, 'White': 62131, 'Native Hawaiian/Other Pacific Islander': 1265, 'Multiple/Other': 10063}, '65+ years': {'Asian': 12030, 'White': 50145, 'Black': 9514, 'Native Hawaiian/Other Pacific Islander': 696, 'American Indian/Alaska Native': 345, 'Multiple/Other': 4865}}\n",
      "White\n",
      "Black\n",
      "Multiple/Other\n",
      "Asian\n",
      "American Indian/Alaska Native\n",
      "Native Hawaiian/Other Pacific Islander\n"
     ]
    },
    {
     "data": {
      "image/png": "[encoded data removed]",
      "text/plain": [
       "<Figure size 432x288 with 1 Axes>"
      ]
     },
     "metadata": {
      "needs_background": "light"
     },
     "output_type": "display_data"
    }
   ],
   "source": [
    "import matplotlib.pyplot as plt\n",
    "import numpy as np\n",
    "print(LA_age_race_d)\n",
    "LA = LA_age_race_d\n",
    "\n",
    "X = list(LA_age_race_d.keys())\n",
    "#print(X)\n",
    "races = [\"White\",\"Black\",\"Multiple/Other\",\"Asian\",\"American Indian/Alaska Native\",\"Native Hawaiian/Other Pacific Islander\"]\n",
    "Y1 = []\n",
    "Y2 = []\n",
    "Y3 = []\n",
    "Y4 = []\n",
    "Ys = []\n",
    "for j in range(0, len(races)):\n",
    "    print(races[j])\n",
    "    y = []\n",
    "    for i in range(0, len(X)):\n",
    "        y.append(LA_age_race_d[X[i]][races[j]])\n",
    "    Ys.append(y)\n",
    "X_axis = np.arange(len(X))\n",
    "plt.xticks(X_axis, X)\n",
    "plt.bar(X_axis - 0.3, Ys[0], 0.1, label='White')\n",
    "plt.bar(X_axis - 0.2, Ys[1], 0.1, label='Black')\n",
    "plt.bar(X_axis - 0.1, Ys[2], 0.1, label='Multiple/Other')\n",
    "plt.bar(X_axis + 0, Ys[3], 0.1, label='Asian')\n",
    "plt.bar(X_axis + 0.1, Ys[4], 0.1, label='American Indian')\n",
    "plt.bar(X_axis + 0.2, Ys[5], 0.1, label='Native Hawaiian')\n",
    "plt.legend()\n",
    "plt.title(\"Los Angeles\")\n",
    "plt.ylabel(\"Thousands\")\n",
    "plt.show()\n",
    "#plt.bar(range(len(LA)), list(LA.values()), align='center',color='black')\n",
    "#plt.xticks(range(len(LA)), list(LA.keys()))\n",
    "\n",
    "#plt.show()\n",
    "#Deaths by age group"
   ]
  },
  {
   "cell_type": "code",
   "execution_count": 66,
   "id": "8ed87e15",
   "metadata": {},
   "outputs": [],
   "source": [
    "def calcPlotValues(my_d):\n",
    "    X = list(my_d.keys())\n",
    "    races = [\"White\",\"Black\",\"Multiple/Other\",\"Asian\",\"American Indian/Alaska Native\",\"Native Hawaiian/Other Pacific Islander\"]\n",
    "    Ys = []\n",
    "    for j in range(0, len(races)):\n",
    "        y = []\n",
    "        for i in range(0, len(X)):\n",
    "            try:\n",
    "                y.append(my_d[X[i]][races[j]])\n",
    "            except KeyError:\n",
    "                y.append(0)\n",
    "        Ys.append(y)\n",
    "    return Ys"
   ]
  },
  {
   "cell_type": "code",
   "execution_count": 70,
   "id": "6ba54db4",
   "metadata": {},
   "outputs": [
    {
     "data": {
      "image/png": "[encoded data removed]",
      "text/plain": [
       "<Figure size 432x288 with 1 Axes>"
      ]
     },
     "metadata": {
      "needs_background": "light"
     },
     "output_type": "display_data"
    }
   ],
   "source": [
    "import matplotlib.pyplot as plt\n",
    "import numpy as np\n",
    "Ys = calcPlotValues(cook_age_race_d)\n",
    "X_axis = np.arange(len(X))\n",
    "plt.xticks(X_axis, X)\n",
    "plt.bar(X_axis - 0.3, Ys[0], 0.1, label='White')\n",
    "plt.bar(X_axis - 0.2, Ys[1], 0.1, label='Black')\n",
    "plt.bar(X_axis - 0.1, Ys[2], 0.1, label='Multiple/Other')\n",
    "plt.bar(X_axis + 0, Ys[3], 0.1, label='Asian')\n",
    "plt.bar(X_axis + 0.1, Ys[4], 0.1, label='American Indian')\n",
    "plt.bar(X_axis + 0.2, Ys[5], 0.1, label='Native Hawaiian')\n",
    "plt.legend()\n",
    "plt.title(\"Cook\")\n",
    "plt.ylabel(\"Thousands\")\n",
    "plt.show()"
   ]
  },
  {
   "cell_type": "code",
   "execution_count": 89,
   "id": "3b3745b1",
   "metadata": {},
   "outputs": [
    {
     "data": {
      "image/png": "[encoded data removed]",
      "text/plain": [
       "<Figure size 432x288 with 1 Axes>"
      ]
     },
     "metadata": {
      "needs_background": "light"
     },
     "output_type": "display_data"
    }
   ],
   "source": [
    "import matplotlib.pyplot as plt\n",
    "import numpy as np\n",
    "Ys = calcPlotValues(marion_age_race_d)\n",
    "X_axis = np.arange(len(X))\n",
    "plt.xticks(X_axis, X)\n",
    "plt.bar(X_axis - 0.3, Ys[0], 0.1, label='White')\n",
    "plt.bar(X_axis - 0.2, Ys[1], 0.1, label='Black')\n",
    "plt.bar(X_axis - 0.1, Ys[2], 0.1, label='Multiple/Other')\n",
    "plt.bar(X_axis + 0, Ys[3], 0.1, label='Asian')\n",
    "plt.bar(X_axis + 0.1, Ys[4], 0.1, label='American Indian')\n",
    "plt.bar(X_axis + 0.2, Ys[5], 0.1, label='Native Hawaiian')\n",
    "plt.legend()\n",
    "plt.title(\"Marion\")\n",
    "plt.ylabel(\"Thousands\")\n",
    "plt.show()"
   ]
  },
  {
   "cell_type": "code",
   "execution_count": null,
   "id": "0694d387",
   "metadata": {},
   "outputs": [],
   "source": [
    "import matplotlib.pyplot as plt\n",
    "labels = "
   ]
  },
  {
   "cell_type": "code",
   "execution_count": 2,
   "id": "b33b5513",
   "metadata": {},
   "outputs": [],
   "source": [
    "def get_states():\n",
    "    infile = open(\"CDC_data.csv\",\"r\")\n",
    "    infile.readline()\n",
    "    states_l = []\n",
    "    while (True):\n",
    "        line = infile.readline()\n",
    "        tokens = line.strip().split(\",\")\n",
    "        state = tokens[1]\n",
    "        if (state not in states_l):\n",
    "            states_l.append(tokens[1])\n",
    "        if (len(states_l) == 50):\n",
    "            break\n",
    "    states_l.sort()\n",
    "    return states_l"
   ]
  },
  {
   "cell_type": "code",
   "execution_count": 3,
   "id": "427b3c08",
   "metadata": {},
   "outputs": [
    {
     "name": "stdout",
     "output_type": "stream",
     "text": [
      "    if (state == 'AK' and race in races and age_group in ageGroups):\n",
      "        all_states['AK'].setdefault(age_group,[]).append(race)\n",
      "    elif (state == 'AL' and race in races and age_group in ageGroups):\n",
      "        all_states['AL'].setdefault(age_group,[]).append(race)\n",
      "    elif (state == 'AR' and race in races and age_group in ageGroups):\n",
      "        all_states['AR'].setdefault(age_group,[]).append(race)\n",
      "    elif (state == 'AZ' and race in races and age_group in ageGroups):\n",
      "        all_states['AZ'].setdefault(age_group,[]).append(race)\n",
      "    elif (state == 'CA' and race in races and age_group in ageGroups):\n",
      "        all_states['CA'].setdefault(age_group,[]).append(race)\n",
      "    elif (state == 'CO' and race in races and age_group in ageGroups):\n",
      "        all_states['CO'].setdefault(age_group,[]).append(race)\n",
      "    elif (state == 'CT' and race in races and age_group in ageGroups):\n",
      "        all_states['CT'].setdefault(age_group,[]).append(race)\n",
      "    elif (state == 'DE' and race in races and age_group in ageGroups):\n",
      "        all_states['DE'].setdefault(age_group,[]).append(race)\n",
      "    elif (state == 'FL' and race in races and age_group in ageGroups):\n",
      "        all_states['FL'].setdefault(age_group,[]).append(race)\n",
      "    elif (state == 'GA' and race in races and age_group in ageGroups):\n",
      "        all_states['GA'].setdefault(age_group,[]).append(race)\n",
      "    elif (state == 'HI' and race in races and age_group in ageGroups):\n",
      "        all_states['HI'].setdefault(age_group,[]).append(race)\n",
      "    elif (state == 'IA' and race in races and age_group in ageGroups):\n",
      "        all_states['IA'].setdefault(age_group,[]).append(race)\n",
      "    elif (state == 'ID' and race in races and age_group in ageGroups):\n",
      "        all_states['ID'].setdefault(age_group,[]).append(race)\n",
      "    elif (state == 'IL' and race in races and age_group in ageGroups):\n",
      "        all_states['IL'].setdefault(age_group,[]).append(race)\n",
      "    elif (state == 'IN' and race in races and age_group in ageGroups):\n",
      "        all_states['IN'].setdefault(age_group,[]).append(race)\n",
      "    elif (state == 'KS' and race in races and age_group in ageGroups):\n",
      "        all_states['KS'].setdefault(age_group,[]).append(race)\n",
      "    elif (state == 'KY' and race in races and age_group in ageGroups):\n",
      "        all_states['KY'].setdefault(age_group,[]).append(race)\n",
      "    elif (state == 'LA' and race in races and age_group in ageGroups):\n",
      "        all_states['LA'].setdefault(age_group,[]).append(race)\n",
      "    elif (state == 'MA' and race in races and age_group in ageGroups):\n",
      "        all_states['MA'].setdefault(age_group,[]).append(race)\n",
      "    elif (state == 'MD' and race in races and age_group in ageGroups):\n",
      "        all_states['MD'].setdefault(age_group,[]).append(race)\n",
      "    elif (state == 'ME' and race in races and age_group in ageGroups):\n",
      "        all_states['ME'].setdefault(age_group,[]).append(race)\n",
      "    elif (state == 'MI' and race in races and age_group in ageGroups):\n",
      "        all_states['MI'].setdefault(age_group,[]).append(race)\n",
      "    elif (state == 'MN' and race in races and age_group in ageGroups):\n",
      "        all_states['MN'].setdefault(age_group,[]).append(race)\n",
      "    elif (state == 'MO' and race in races and age_group in ageGroups):\n",
      "        all_states['MO'].setdefault(age_group,[]).append(race)\n",
      "    elif (state == 'MS' and race in races and age_group in ageGroups):\n",
      "        all_states['MS'].setdefault(age_group,[]).append(race)\n",
      "    elif (state == 'MT' and race in races and age_group in ageGroups):\n",
      "        all_states['MT'].setdefault(age_group,[]).append(race)\n",
      "    elif (state == 'NC' and race in races and age_group in ageGroups):\n",
      "        all_states['NC'].setdefault(age_group,[]).append(race)\n",
      "    elif (state == 'ND' and race in races and age_group in ageGroups):\n",
      "        all_states['ND'].setdefault(age_group,[]).append(race)\n",
      "    elif (state == 'NE' and race in races and age_group in ageGroups):\n",
      "        all_states['NE'].setdefault(age_group,[]).append(race)\n",
      "    elif (state == 'NH' and race in races and age_group in ageGroups):\n",
      "        all_states['NH'].setdefault(age_group,[]).append(race)\n",
      "    elif (state == 'NJ' and race in races and age_group in ageGroups):\n",
      "        all_states['NJ'].setdefault(age_group,[]).append(race)\n",
      "    elif (state == 'NM' and race in races and age_group in ageGroups):\n",
      "        all_states['NM'].setdefault(age_group,[]).append(race)\n",
      "    elif (state == 'NV' and race in races and age_group in ageGroups):\n",
      "        all_states['NV'].setdefault(age_group,[]).append(race)\n",
      "    elif (state == 'NY' and race in races and age_group in ageGroups):\n",
      "        all_states['NY'].setdefault(age_group,[]).append(race)\n",
      "    elif (state == 'OH' and race in races and age_group in ageGroups):\n",
      "        all_states['OH'].setdefault(age_group,[]).append(race)\n",
      "    elif (state == 'OK' and race in races and age_group in ageGroups):\n",
      "        all_states['OK'].setdefault(age_group,[]).append(race)\n",
      "    elif (state == 'OR' and race in races and age_group in ageGroups):\n",
      "        all_states['OR'].setdefault(age_group,[]).append(race)\n",
      "    elif (state == 'PA' and race in races and age_group in ageGroups):\n",
      "        all_states['PA'].setdefault(age_group,[]).append(race)\n",
      "    elif (state == 'RI' and race in races and age_group in ageGroups):\n",
      "        all_states['RI'].setdefault(age_group,[]).append(race)\n",
      "    elif (state == 'SC' and race in races and age_group in ageGroups):\n",
      "        all_states['SC'].setdefault(age_group,[]).append(race)\n",
      "    elif (state == 'SD' and race in races and age_group in ageGroups):\n",
      "        all_states['SD'].setdefault(age_group,[]).append(race)\n",
      "    elif (state == 'TN' and race in races and age_group in ageGroups):\n",
      "        all_states['TN'].setdefault(age_group,[]).append(race)\n",
      "    elif (state == 'TX' and race in races and age_group in ageGroups):\n",
      "        all_states['TX'].setdefault(age_group,[]).append(race)\n",
      "    elif (state == 'UT' and race in races and age_group in ageGroups):\n",
      "        all_states['UT'].setdefault(age_group,[]).append(race)\n",
      "    elif (state == 'VA' and race in races and age_group in ageGroups):\n",
      "        all_states['VA'].setdefault(age_group,[]).append(race)\n",
      "    elif (state == 'VT' and race in races and age_group in ageGroups):\n",
      "        all_states['VT'].setdefault(age_group,[]).append(race)\n",
      "    elif (state == 'WA' and race in races and age_group in ageGroups):\n",
      "        all_states['WA'].setdefault(age_group,[]).append(race)\n",
      "    elif (state == 'WI' and race in races and age_group in ageGroups):\n",
      "        all_states['WI'].setdefault(age_group,[]).append(race)\n",
      "    elif (state == 'WV' and race in races and age_group in ageGroups):\n",
      "        all_states['WV'].setdefault(age_group,[]).append(race)\n",
      "    elif (state == 'WY' and race in races and age_group in ageGroups):\n",
      "        all_states['WY'].setdefault(age_group,[]).append(race)\n"
     ]
    }
   ],
   "source": [
    "states_l = get_states()\n",
    "for i in range(0, len(states_l)):\n",
    "    if (i == 0):\n",
    "        print(\"    if (state == '\" + states_l[i] + \"'\" + \" and race in races and age_group in ageGroups):\")\n",
    "        print(\"        all_states['\" + states_l[i] + \"'].setdefault(age_group,[]).append(race)\")\n",
    "    else:\n",
    "        print(\"    elif (state == '\" + states_l[i] + \"'\" + \" and race in races and age_group in ageGroups):\")\n",
    "        print(\"        all_states['\" + states_l[i] + \"'].setdefault(age_group,[]).append(race)\")"
   ]
  },
  {
   "cell_type": "code",
   "execution_count": 7,
   "id": "8346e448",
   "metadata": {},
   "outputs": [],
   "source": [
    "def get_lines():\n",
    "    infile = open(\"CDC_data.csv\",\"r\")\n",
    "    lines = []\n",
    "    headerLine = infile.readline()\n",
    "    headers = headerLine.strip().split(\",\")\n",
    "    #print(headers)\n",
    "    while (True):\n",
    "        line = infile.readline()\n",
    "        if line == \"\":\n",
    "            break;\n",
    "        lines.append(line)\n",
    "    return lines"
   ]
  },
  {
   "cell_type": "code",
   "execution_count": 8,
   "id": "254e290c",
   "metadata": {},
   "outputs": [],
   "source": [
    "def get_count_dict(state):\n",
    "    state_dict = {}\n",
    "    for key in all_states[state]:\n",
    "        raceDict = {}\n",
    "        for item in all_states[state][key]:\n",
    "            raceDict[item] = raceDict.get(item, 0) + 1\n",
    "        state_dict[key] = raceDict\n",
    "    return state_dict"
   ]
  },
  {
   "cell_type": "code",
   "execution_count": 9,
   "id": "abec88a5",
   "metadata": {},
   "outputs": [
    {
     "name": "stdout",
     "output_type": "stream",
     "text": [
      "{'AK': {}, 'AL': {}, 'AR': {}, 'AZ': {}, 'CA': {}, 'CO': {}, 'CT': {}, 'DE': {}, 'FL': {}, 'GA': {}, 'HI': {}, 'IA': {}, 'ID': {}, 'IL': {}, 'IN': {}, 'KS': {}, 'KY': {}, 'LA': {}, 'MA': {}, 'MD': {}, 'ME': {}, 'MI': {}, 'MN': {}, 'MO': {}, 'MS': {}, 'MT': {}, 'NC': {}, 'ND': {}, 'NE': {}, 'NH': {}, 'NJ': {}, 'NM': {}, 'NV': {}, 'NY': {}, 'OH': {}, 'OK': {}, 'OR': {}, 'PA': {}, 'RI': {}, 'SC': {}, 'SD': {}, 'TN': {}, 'TX': {}, 'UT': {}, 'VA': {}, 'VT': {}, 'WA': {}, 'WI': {}, 'WV': {}, 'WY': {}}\n"
     ]
    },
    {
     "ename": "NameError",
     "evalue": "name 'headers' is not defined",
     "output_type": "error",
     "traceback": [
      "\u001b[1;31m---------------------------------------------------------------------------\u001b[0m",
      "\u001b[1;31mNameError\u001b[0m                                 Traceback (most recent call last)",
      "\u001b[1;32m<ipython-input-9-23aec021499f>\u001b[0m in \u001b[0;36m<module>\u001b[1;34m\u001b[0m\n\u001b[0;32m     13\u001b[0m \u001b[1;32mfor\u001b[0m \u001b[0mline\u001b[0m \u001b[1;32min\u001b[0m \u001b[0mlines\u001b[0m\u001b[1;33m:\u001b[0m\u001b[1;33m\u001b[0m\u001b[1;33m\u001b[0m\u001b[0m\n\u001b[0;32m     14\u001b[0m     \u001b[0mtokens\u001b[0m \u001b[1;33m=\u001b[0m \u001b[0mline\u001b[0m\u001b[1;33m.\u001b[0m\u001b[0mstrip\u001b[0m\u001b[1;33m(\u001b[0m\u001b[1;33m)\u001b[0m\u001b[1;33m.\u001b[0m\u001b[0msplit\u001b[0m\u001b[1;33m(\u001b[0m\u001b[1;34m\",\"\u001b[0m\u001b[1;33m)\u001b[0m\u001b[1;33m\u001b[0m\u001b[1;33m\u001b[0m\u001b[0m\n\u001b[1;32m---> 15\u001b[1;33m     \u001b[0mstate\u001b[0m \u001b[1;33m=\u001b[0m \u001b[0mtokens\u001b[0m\u001b[1;33m[\u001b[0m\u001b[0mheaders\u001b[0m\u001b[1;33m.\u001b[0m\u001b[0mindex\u001b[0m\u001b[1;33m(\u001b[0m\u001b[1;34m\"res_state\"\u001b[0m\u001b[1;33m)\u001b[0m\u001b[1;33m]\u001b[0m\u001b[1;33m\u001b[0m\u001b[1;33m\u001b[0m\u001b[0m\n\u001b[0m\u001b[0;32m     16\u001b[0m     \u001b[0mage_group\u001b[0m \u001b[1;33m=\u001b[0m \u001b[0mtokens\u001b[0m\u001b[1;33m[\u001b[0m\u001b[0mheaders\u001b[0m\u001b[1;33m.\u001b[0m\u001b[0mindex\u001b[0m\u001b[1;33m(\u001b[0m\u001b[1;34m\"age_group\"\u001b[0m\u001b[1;33m)\u001b[0m\u001b[1;33m]\u001b[0m\u001b[1;33m\u001b[0m\u001b[1;33m\u001b[0m\u001b[0m\n\u001b[0;32m     17\u001b[0m     \u001b[0mrace\u001b[0m \u001b[1;33m=\u001b[0m \u001b[0mtokens\u001b[0m\u001b[1;33m[\u001b[0m\u001b[0mheaders\u001b[0m\u001b[1;33m.\u001b[0m\u001b[0mindex\u001b[0m\u001b[1;33m(\u001b[0m\u001b[1;34m\"race\"\u001b[0m\u001b[1;33m)\u001b[0m\u001b[1;33m]\u001b[0m\u001b[1;33m\u001b[0m\u001b[1;33m\u001b[0m\u001b[0m\n",
      "\u001b[1;31mNameError\u001b[0m: name 'headers' is not defined"
     ]
    }
   ],
   "source": [
    "states_l = get_states()\n",
    "#print(states_l)\n",
    "lines = get_lines()\n",
    "#print(len(lines))\n",
    "states_l = get_states()\n",
    "all_states = {}\n",
    "for state in states_l:\n",
    "    all_states[state] = {}\n",
    "print(all_states)\n",
    "races = [\"White\",\"Black\",\"Multiple/Other\",\"Asian\",\"American Indian/Alaska Native\",\"Native Hawaiian/Other Pacific Islander\"]\n",
    "ageGroups = [\"18 to 49 years\",\"50 to 64 years\",\"0 - 17 years\",\"65+ years\"]\n",
    "\n",
    "for line in lines:\n",
    "    tokens = line.strip().split(\",\")\n",
    "    state = tokens[headers.index(\"res_state\")]\n",
    "    age_group = tokens[headers.index(\"age_group\")]\n",
    "    race = tokens[headers.index(\"race\")]\n",
    "    if (state == 'AK' and race in races and age_group in ageGroups):\n",
    "        all_states['AK'].setdefault(age_group,[]).append(race)\n",
    "    elif (state == 'AL' and race in races and age_group in ageGroups):\n",
    "        all_states['AL'].setdefault(age_group,[]).append(race)\n",
    "    elif (state == 'AR' and race in races and age_group in ageGroups):\n",
    "        all_states['AR'].setdefault(age_group,[]).append(race)\n",
    "    elif (state == 'AZ' and race in races and age_group in ageGroups):\n",
    "        all_states['AZ'].setdefault(age_group,[]).append(race)\n",
    "    elif (state == 'CA' and race in races and age_group in ageGroups):\n",
    "        all_states['CA'].setdefault(age_group,[]).append(race)\n",
    "    elif (state == 'CO' and race in races and age_group in ageGroups):\n",
    "        all_states['CO'].setdefault(age_group,[]).append(race)\n",
    "    elif (state == 'CT' and race in races and age_group in ageGroups):\n",
    "        all_states['CT'].setdefault(age_group,[]).append(race)\n",
    "    elif (state == 'DE' and race in races and age_group in ageGroups):\n",
    "        all_states['DE'].setdefault(age_group,[]).append(race)\n",
    "    elif (state == 'FL' and race in races and age_group in ageGroups):\n",
    "        all_states['FL'].setdefault(age_group,[]).append(race)\n",
    "    elif (state == 'GA' and race in races and age_group in ageGroups):\n",
    "        all_states['GA'].setdefault(age_group,[]).append(race)\n",
    "    elif (state == 'HI' and race in races and age_group in ageGroups):\n",
    "        all_states['HI'].setdefault(age_group,[]).append(race)\n",
    "    elif (state == 'IA' and race in races and age_group in ageGroups):\n",
    "        all_states['IA'].setdefault(age_group,[]).append(race)\n",
    "    elif (state == 'ID' and race in races and age_group in ageGroups):\n",
    "        all_states['ID'].setdefault(age_group,[]).append(race)\n",
    "    elif (state == 'IL' and race in races and age_group in ageGroups):\n",
    "        all_states['IL'].setdefault(age_group,[]).append(race)\n",
    "    elif (state == 'IN' and race in races and age_group in ageGroups):\n",
    "        all_states['IN'].setdefault(age_group,[]).append(race)\n",
    "    elif (state == 'KS' and race in races and age_group in ageGroups):\n",
    "        all_states['KS'].setdefault(age_group,[]).append(race)\n",
    "    elif (state == 'KY' and race in races and age_group in ageGroups):\n",
    "        all_states['KY'].setdefault(age_group,[]).append(race)\n",
    "    elif (state == 'LA' and race in races and age_group in ageGroups):\n",
    "        all_states['LA'].setdefault(age_group,[]).append(race)\n",
    "    elif (state == 'MA' and race in races and age_group in ageGroups):\n",
    "        all_states['MA'].setdefault(age_group,[]).append(race)\n",
    "    elif (state == 'MD' and race in races and age_group in ageGroups):\n",
    "        all_states['MD'].setdefault(age_group,[]).append(race)\n",
    "    elif (state == 'ME' and race in races and age_group in ageGroups):\n",
    "        all_states['ME'].setdefault(age_group,[]).append(race)\n",
    "    elif (state == 'MI' and race in races and age_group in ageGroups):\n",
    "        all_states['MI'].setdefault(age_group,[]).append(race)\n",
    "    elif (state == 'MN' and race in races and age_group in ageGroups):\n",
    "        all_states['MN'].setdefault(age_group,[]).append(race)\n",
    "    elif (state == 'MO' and race in races and age_group in ageGroups):\n",
    "        all_states['MO'].setdefault(age_group,[]).append(race)\n",
    "    elif (state == 'MS' and race in races and age_group in ageGroups):\n",
    "        all_states['MS'].setdefault(age_group,[]).append(race)\n",
    "    elif (state == 'MT' and race in races and age_group in ageGroups):\n",
    "        all_states['MT'].setdefault(age_group,[]).append(race)\n",
    "    elif (state == 'NC' and race in races and age_group in ageGroups):\n",
    "        all_states['NC'].setdefault(age_group,[]).append(race)\n",
    "    elif (state == 'ND' and race in races and age_group in ageGroups):\n",
    "        all_states['ND'].setdefault(age_group,[]).append(race)\n",
    "    elif (state == 'NE' and race in races and age_group in ageGroups):\n",
    "        all_states['NE'].setdefault(age_group,[]).append(race)\n",
    "    elif (state == 'NH' and race in races and age_group in ageGroups):\n",
    "        all_states['NH'].setdefault(age_group,[]).append(race)\n",
    "    elif (state == 'NJ' and race in races and age_group in ageGroups):\n",
    "        all_states['NJ'].setdefault(age_group,[]).append(race)\n",
    "    elif (state == 'NM' and race in races and age_group in ageGroups):\n",
    "        all_states['NM'].setdefault(age_group,[]).append(race)\n",
    "    elif (state == 'NV' and race in races and age_group in ageGroups):\n",
    "        all_states['NV'].setdefault(age_group,[]).append(race)\n",
    "    elif (state == 'NY' and race in races and age_group in ageGroups):\n",
    "        all_states['NY'].setdefault(age_group,[]).append(race)\n",
    "    elif (state == 'OH' and race in races and age_group in ageGroups):\n",
    "        all_states['OH'].setdefault(age_group,[]).append(race)\n",
    "    elif (state == 'OK' and race in races and age_group in ageGroups):\n",
    "        all_states['OK'].setdefault(age_group,[]).append(race)\n",
    "    elif (state == 'OR' and race in races and age_group in ageGroups):\n",
    "        all_states['OR'].setdefault(age_group,[]).append(race)\n",
    "    elif (state == 'PA' and race in races and age_group in ageGroups):\n",
    "        all_states['PA'].setdefault(age_group,[]).append(race)\n",
    "    elif (state == 'RI' and race in races and age_group in ageGroups):\n",
    "        all_states['RI'].setdefault(age_group,[]).append(race)\n",
    "    elif (state == 'SC' and race in races and age_group in ageGroups):\n",
    "        all_states['SC'].setdefault(age_group,[]).append(race)\n",
    "    elif (state == 'SD' and race in races and age_group in ageGroups):\n",
    "        all_states['SD'].setdefault(age_group,[]).append(race)\n",
    "    elif (state == 'TN' and race in races and age_group in ageGroups):\n",
    "        all_states['TN'].setdefault(age_group,[]).append(race)\n",
    "    elif (state == 'TX' and race in races and age_group in ageGroups):\n",
    "        all_states['TX'].setdefault(age_group,[]).append(race)\n",
    "    elif (state == 'UT' and race in races and age_group in ageGroups):\n",
    "        all_states['UT'].setdefault(age_group,[]).append(race)\n",
    "    elif (state == 'VA' and race in races and age_group in ageGroups):\n",
    "        all_states['VA'].setdefault(age_group,[]).append(race)\n",
    "    elif (state == 'VT' and race in races and age_group in ageGroups):\n",
    "        all_states['VT'].setdefault(age_group,[]).append(race)\n",
    "    elif (state == 'WA' and race in races and age_group in ageGroups):\n",
    "        all_states['WA'].setdefault(age_group,[]).append(race)\n",
    "    elif (state == 'WI' and race in races and age_group in ageGroups):\n",
    "        all_states['WI'].setdefault(age_group,[]).append(race)\n",
    "    elif (state == 'WV' and race in races and age_group in ageGroups):\n",
    "        all_states['WV'].setdefault(age_group,[]).append(race)\n",
    "    elif (state == 'WY' and race in races and age_group in ageGroups):\n",
    "        all_states['WY'].setdefault(age_group,[]).append(race)\n",
    "#    if (state == 'CA' and race in races and age_group in ageGroups):\n",
    "#        CA_dict.setdefault(age_group,[]).append(race)\n",
    "#print(CA_dict)\n",
    "CA_age_race_dict = get_count_dict('CA')\n",
    "print(\"CA values:\")\n",
    "print(CA_age_race_dict)\n",
    "HI_age_race_dict = get_count_dict('HI')\n",
    "print(\"HI values: \")\n",
    "print(HI_age_race_dict)\n"
   ]
  },
  {
   "cell_type": "code",
   "execution_count": 48,
   "id": "84f8c8b7",
   "metadata": {},
   "outputs": [
    {
     "name": "stdout",
     "output_type": "stream",
     "text": [
      "MS values: \n",
      "{'50 to 64 years': {'American Indian/Alaska Native': 153, 'Black': 4327, 'White': 3370, 'Multiple/Other': 61}, '18 to 49 years': {'White': 8141, 'Black': 11774, 'American Indian/Alaska Native': 504, 'Multiple/Other': 614}, '65+ years': {'White': 4281, 'Black': 3123, 'American Indian/Alaska Native': 12}, '0 - 17 years': {'Black': 2142, 'White': 968, 'American Indian/Alaska Native': 65, 'Multiple/Other': 25}}\n"
     ]
    }
   ],
   "source": [
    "MS_age_race_dict = get_count_dict('MS')\n",
    "print(\"MS values: \")\n",
    "print(MS_age_race_dict)"
   ]
  },
  {
   "cell_type": "code",
   "execution_count": 3,
   "id": "0ce44f1b",
   "metadata": {},
   "outputs": [],
   "source": [
    "infile = open(\"CDC_data.csv\",\"r\")\n",
    "lines = []\n",
    "headerLine = infile.readline()\n",
    "headers = headerLine.strip().split(\",\")\n",
    "#print(headers)\n",
    "count = 0\n",
    "while (True):\n",
    "    line = infile.readline()\n",
    "    if line == \"\":\n",
    "        break;\n",
    "    lines.append(line)\n",
    "    count+=1\n",
    "    #if (count > 1000000):\n",
    "        #break\n",
    "#print(lines)\n",
    "ageDict = {}#for age and race data\n",
    "ageDict2 = {}#for age and gender data\n",
    "ageDict3 = {}#for age and death data\n",
    "ageDict4 = {}#for age and exposure data\n",
    "ageDict5 = {}#for age and comorbidity data\n",
    "races = [\"White\",\"Black\",\"Multiple/Other\",\"Asian\",\"American Indian/Alaska Native\",\"Native Hawaiian/Other Pacific Islander\"]\n",
    "ageGroups = [\"18 to 49 years\",\"50 to 64 years\",\"0 - 17 years\",\"65+ years\"]\n",
    "sexes = [\"Female\",\"Male\",\"NA\"]\n",
    "underlyingCond = [\"No value\",\"Yes\",\"No\"]\n",
    "exposure = [\"Missing\",\"Yes\",\"No\"]\n",
    "hospital = [\"Missing\",\"No\",\"Unknown\",\"Yes\"]\n",
    "death=[\"No\",\"Missing\",\"Unknown\",\"NA\",\"Yes\"]\n",
    "symptoms=[\"Symptomatic\",\"Missing\",\"Unknown\",\"Asymptomatic\",\"nul\"]\n",
    "interval=[\"No value\",0,1,2,3,4,5,6,7,8,9,10,11,12,13,14]\n",
    "for line in lines:\n",
    "    tokens = line.strip().split(\",\")\n",
    "    age_group = tokens[headers.index(\"age_group\")]\n",
    "    sex = tokens[headers.index(\"sex\")]\n",
    "    race = tokens[headers.index(\"race\")]\n",
    "    deceased = tokens[headers.index(\"death_yn\")]\n",
    "    exposure = tokens[headers.index(\"exposure_yn\")]\n",
    "    comorbidity = tokens[headers.index(\"underlying_conditions_yn\")]\n",
    "    if (race in races and age_group in ageGroups):\n",
    "        ageDict.setdefault(age_group,[]).append(race)\n",
    "    if (sex in sexes and age_group in ageGroups):\n",
    "        ageDict2.setdefault(age_group,[]).append(sex)\n",
    "    if (deceased == \"Yes\" and age_group in ageGroups):\n",
    "        ageDict3.setdefault(age_group,[]).append(deceased)\n",
    "    if (exposure == \"Yes\" and age_group in ageGroups):\n",
    "        ageDict4.setdefault(age_group,[]).append(exposure)\n",
    "    if ((comorbidity == \"Yes\" or comorbidity == \"No\") and age_group in ageGroups):\n",
    "        ageDict5.setdefault(age_group,[]).append(comorbidity)\n",
    "#print(ageDict)\n",
    "#2 min for all records"
   ]
  },
  {
   "cell_type": "code",
   "execution_count": 13,
   "id": "e56cf711",
   "metadata": {},
   "outputs": [
    {
     "name": "stdout",
     "output_type": "stream",
     "text": [
      "{'65+ years': 269269, '50 to 64 years': 26660, '18 to 49 years': 5240}\n"
     ]
    }
   ],
   "source": [
    "#print(ageDict3)\n",
    "age_deceased_dict = {}\n",
    "for key in ageDict3:\n",
    "    age_deceased_dict[key]= len(ageDict3[key])\n",
    "print(age_deceased_dict)"
   ]
  },
  {
   "cell_type": "code",
   "execution_count": 15,
   "id": "139096f5",
   "metadata": {},
   "outputs": [
    {
     "data": {
      "image/png": "[encoded data removed]",
      "text/plain": [
       "<Figure size 432x288 with 1 Axes>"
      ]
     },
     "metadata": {
      "needs_background": "light"
     },
     "output_type": "display_data"
    }
   ],
   "source": [
    "import matplotlib.pyplot as plt\n",
    "\n",
    "D = age_deceased_dict\n",
    "\n",
    "plt.bar(range(len(D)), list(D.values()), align='center',color='black')\n",
    "plt.xticks(range(len(D)), list(D.keys()))\n",
    "plt.legend(['Deaths'])\n",
    "plt.ylabel('Thousands')\n",
    "plt.show()\n",
    "#Deaths by age group"
   ]
  },
  {
   "cell_type": "code",
   "execution_count": 37,
   "id": "43492988",
   "metadata": {},
   "outputs": [
    {
     "name": "stdout",
     "output_type": "stream",
     "text": [
      "{'0 - 17 years': 360477, '18 to 49 years': 1049232, '50 to 64 years': 374266, '65+ years': 303778}\n"
     ]
    }
   ],
   "source": [
    "age_exposure_dict = {}\n",
    "for key in ageDict4:\n",
    "    age_exposure_dict[key]= len(ageDict4[key])\n",
    "sorted_keys2 = sorted(age_exposure_dict)\n",
    "sorted_age_exposure_dict = {}\n",
    "for key in sorted_keys2:\n",
    "    sorted_age_exposure_dict[key] = age_exposure_dict[key]\n",
    "print(sorted_age_exposure_dict)"
   ]
  },
  {
   "cell_type": "code",
   "execution_count": 41,
   "id": "2b09b589",
   "metadata": {},
   "outputs": [
    {
     "data": {
      "image/png": "[encoded data removed]",
      "text/plain": [
       "<Figure size 432x288 with 1 Axes>"
      ]
     },
     "metadata": {
      "needs_background": "light"
     },
     "output_type": "display_data"
    }
   ],
   "source": [
    "import matplotlib.pyplot as plt\n",
    "\n",
    "Exp = sorted_age_exposure_dict\n",
    "\n",
    "plt.bar(range(len(Exp)), list(Exp.values()), align='center',color='red')\n",
    "plt.xticks(range(len(Exp)), list(Exp.keys()))\n",
    "plt.legend(['Known exposure to COVID-19'], bbox_to_anchor=(1.6,1), loc='upper right', ncol=1)\n",
    "plt.ylabel('Millions')\n",
    "plt.show()\n",
    "#Known exposure to COVID-19 by age group"
   ]
  },
  {
   "cell_type": "code",
   "execution_count": 34,
   "id": "db6ac6fb",
   "metadata": {},
   "outputs": [
    {
     "name": "stdout",
     "output_type": "stream",
     "text": [
      "{'0 - 17 years': 93.33, '18 to 49 years': 97.56, '50 to 64 years': 99.08, '65+ years': 99.71}\n"
     ]
    }
   ],
   "source": [
    "age_comorbidity_dict = {}\n",
    "for key in ageDict5:\n",
    "    comorbidDict = {}\n",
    "    for item in ageDict5[key]:\n",
    "        comorbidDict[item] = comorbidDict.get(item, 0) + 1\n",
    "    age_comorbidity_dict[key] = comorbidDict\n",
    "#print(age_comorbidity_dict)\n",
    "for key in age_comorbidity_dict:\n",
    "    age_comorbidity_dict[key][\"total\"] = age_comorbidity_dict[key][\"Yes\"] + age_comorbidity_dict[key][\"No\"]\n",
    "#print(age_comorbidity_dict)\n",
    "percent_morbid_dict= {}\n",
    "for key in age_comorbidity_dict:\n",
    "    percent_morbid_dict[key] = round(100.0*age_comorbidity_dict[key][\"Yes\"]/age_comorbidity_dict[key][\"total\"],2)\n",
    "sorted_keys = sorted(percent_morbid_dict)\n",
    "sorted_percent_morbid_dict = {}\n",
    "for key in sorted_keys:\n",
    "    sorted_percent_morbid_dict[key] = percent_morbid_dict[key]\n",
    "print(sorted_percent_morbid_dict)"
   ]
  },
  {
   "cell_type": "code",
   "execution_count": 35,
   "id": "ca1f7899",
   "metadata": {},
   "outputs": [
    {
     "data": {
      "image/png": "[encoded data removed]",
      "text/plain": [
       "<Figure size 432x288 with 1 Axes>"
      ]
     },
     "metadata": {
      "needs_background": "light"
     },
     "output_type": "display_data"
    }
   ],
   "source": [
    "import matplotlib.pyplot as plt\n",
    "\n",
    "pExp = sorted_percent_morbid_dict\n",
    "\n",
    "plt.bar(range(len(pExp)), list(pExp.values()), align='center',color='yellow')\n",
    "plt.xticks(range(len(pExp)), list(pExp.keys()))\n",
    "plt.legend(['With underlying\\nhealth conditions'], bbox_to_anchor=(1.4,1), loc='upper right', ncol=1)\n",
    "plt.ylabel('Percent')\n",
    "plt.show()\n",
    "#Age group by comorbidity"
   ]
  },
  {
   "cell_type": "code",
   "execution_count": 7,
   "id": "40185c25",
   "metadata": {},
   "outputs": [
    {
     "name": "stdout",
     "output_type": "stream",
     "text": [
      "{'0 - 17 years': {'Black': 372493, 'Native Hawaiian/Other Pacific Islander': 5442, 'White': 1815380, 'American Indian/Alaska Native': 41228, 'Multiple/Other': 186481, 'Asian': 65984}, '18 to 49 years': {'Black': 1570111, 'Multiple/Other': 782495, 'White': 7453597, 'American Indian/Alaska Native': 142019, 'Asian': 401123, 'Native Hawaiian/Other Pacific Islander': 29674}, '50 to 64 years': {'White': 2937094, 'Black': 488366, 'American Indian/Alaska Native': 32504, 'Multiple/Other': 192711, 'Asian': 113692, 'Native Hawaiian/Other Pacific Islander': 5338}, '65+ years': {'Black': 265935, 'White': 2260857, 'American Indian/Alaska Native': 13622, 'Multiple/Other': 96735, 'Asian': 63876, 'Native Hawaiian/Other Pacific Islander': 1751}}\n"
     ]
    }
   ],
   "source": [
    "age_race_dict = {}\n",
    "for key in ageDict:\n",
    "    raceDict = {}\n",
    "    for item in ageDict[key]:\n",
    "        raceDict[item] = raceDict.get(item, 0) + 1\n",
    "    age_race_dict[key] = raceDict\n",
    "print(age_race_dict)\n",
    "#5 sec for all records\n",
    "#we could make a chart showing for each age group, which race has the highest counts"
   ]
  },
  {
   "cell_type": "code",
   "execution_count": 8,
   "id": "7c51a08f",
   "metadata": {},
   "outputs": [
    {
     "name": "stdout",
     "output_type": "stream",
     "text": [
      "{'0 - 17 years': 372493, '18 to 49 years': 1570111, '50 to 64 years': 488366, '65+ years': 265935}\n"
     ]
    }
   ],
   "source": [
    "def numByRace(race):\n",
    "    numDict = {}\n",
    "    for key in age_race_dict:\n",
    "        if (race in age_race_dict[key]):\n",
    "            numDict[key]=age_race_dict[key][race]\n",
    "        else:\n",
    "            numDict[key]=0\n",
    "    return numDict\n",
    "print(numByRace('Black'))"
   ]
  },
  {
   "cell_type": "code",
   "execution_count": 18,
   "id": "d97bf14a",
   "metadata": {},
   "outputs": [
    {
     "data": {
      "image/png": "[encoded data removed]",
      "text/plain": [
       "<Figure size 432x288 with 1 Axes>"
      ]
     },
     "metadata": {
      "needs_background": "light"
     },
     "output_type": "display_data"
    }
   ],
   "source": [
    "import matplotlib.pyplot as plt\n",
    "B = numByRace('Black')\n",
    "\n",
    "plt.bar(range(len(B)), list(B.values()), align='center', color='purple')\n",
    "plt.xticks(range(len(B)), list(B.keys()))\n",
    "plt.legend(['Black'])\n",
    "plt.ylabel('Millions')\n",
    "\n",
    "plt.show()\n",
    "#Black"
   ]
  },
  {
   "cell_type": "code",
   "execution_count": 14,
   "id": "ca9c621f",
   "metadata": {},
   "outputs": [
    {
     "data": {
      "image/png": "[encoded data removed]",
      "text/plain": [
       "<Figure size 432x288 with 1 Axes>"
      ]
     },
     "metadata": {
      "needs_background": "light"
     },
     "output_type": "display_data"
    }
   ],
   "source": [
    "import matplotlib.pyplot as plt\n",
    "NH = numByRace('Native Hawaiian/Other Pacific Islander')\n",
    "\n",
    "plt.bar(range(len(NH)), list(NH.values()), align='center', color='orange')\n",
    "plt.xticks(range(len(NH)), list(NH.keys()))\n",
    "plt.legend(['Native Hawaiian/\\nOther Pacific Islander'])\n",
    "plt.ylabel('Thousands')\n",
    "\n",
    "\n",
    "plt.show()\n",
    "#Native Hawaiian/Pacific Islander"
   ]
  },
  {
   "cell_type": "code",
   "execution_count": 17,
   "id": "fd9e147e",
   "metadata": {},
   "outputs": [
    {
     "data": {
      "image/png": "[encoded data removed]",
      "text/plain": [
       "<Figure size 432x288 with 1 Axes>"
      ]
     },
     "metadata": {
      "needs_background": "light"
     },
     "output_type": "display_data"
    }
   ],
   "source": [
    "import matplotlib.pyplot as plt\n",
    "W = numByRace('White')\n",
    "\n",
    "plt.bar(range(len(W)), list(W.values()), align='center', color='cyan')\n",
    "plt.xticks(range(len(W)), list(W.keys()))\n",
    "plt.legend(['White'])\n",
    "plt.ylabel('Millions')\n",
    "plt.show()\n",
    "#White"
   ]
  },
  {
   "cell_type": "code",
   "execution_count": 20,
   "id": "4b60693c",
   "metadata": {},
   "outputs": [
    {
     "data": {
      "image/png": "[encoded data removed]",
      "text/plain": [
       "<Figure size 432x288 with 1 Axes>"
      ]
     },
     "metadata": {
      "needs_background": "light"
     },
     "output_type": "display_data"
    }
   ],
   "source": [
    "import matplotlib.pyplot as plt\n",
    "A = numByRace('American Indian/Alaska Native')\n",
    "\n",
    "plt.bar(range(len(A)), list(A.values()), align='center',color='green')\n",
    "plt.xticks(range(len(A)), list(A.keys()))\n",
    "plt.legend(['American Indian/\\nAlaska Native'])\n",
    "plt.ylabel('Thousands')\n",
    "plt.show()\n",
    "#American Indian/Alaska Native"
   ]
  },
  {
   "cell_type": "code",
   "execution_count": 21,
   "id": "494aa7bf",
   "metadata": {
    "scrolled": true
   },
   "outputs": [
    {
     "data": {
      "image/png": "[encoded data removed]",
      "text/plain": [
       "<Figure size 432x288 with 1 Axes>"
      ]
     },
     "metadata": {
      "needs_background": "light"
     },
     "output_type": "display_data"
    }
   ],
   "source": [
    "import matplotlib.pyplot as plt\n",
    "M = numByRace('Multiple/Other')\n",
    "\n",
    "plt.bar(range(len(M)), list(M.values()), align='center', color='grey')\n",
    "plt.xticks(range(len(M)), list(M.keys()))\n",
    "plt.legend(['Multiple/Other'])\n",
    "plt.ylabel('Thousands')\n",
    "plt.show()\n",
    "#Multiple/Other"
   ]
  },
  {
   "cell_type": "code",
   "execution_count": 9,
   "id": "78829403",
   "metadata": {},
   "outputs": [
    {
     "data": {
      "image/png": "[encoded data removed]",
      "text/plain": [
       "<Figure size 432x288 with 1 Axes>"
      ]
     },
     "metadata": {
      "needs_background": "light"
     },
     "output_type": "display_data"
    }
   ],
   "source": [
    "import matplotlib.pyplot as plt\n",
    "ASI = numByRace('Asian')\n",
    "\n",
    "plt.bar(range(len(ASI)), list(ASI.values()), align='center',color='pink')\n",
    "plt.xticks(range(len(ASI)), list(ASI.keys()))\n",
    "plt.legend(['Asian'])\n",
    "plt.ylabel('Thousands')\n",
    "plt.show()\n",
    "#Asian"
   ]
  },
  {
   "cell_type": "code",
   "execution_count": null,
   "id": "17c30306",
   "metadata": {},
   "outputs": [],
   "source": []
  },
  {
   "cell_type": "code",
   "execution_count": 30,
   "id": "fb97be1d",
   "metadata": {},
   "outputs": [
    {
     "name": "stdout",
     "output_type": "stream",
     "text": [
      "{'0 - 17 years': {'NA': 130113, 'Female': 2135687, 'Male': 2157702}, '18 to 49 years': {'NA': 250176, 'Female': 8916678, 'Male': 8014975}, '50 to 64 years': {'NA': 136797, 'Female': 3131012, 'Male': 2944134}, '65+ years': {'Female': 2152851, 'Male': 1790839, 'NA': 116998}}\n"
     ]
    }
   ],
   "source": [
    "age_sex_dict = {}\n",
    "for key in ageDict2:\n",
    "    sexDict = {}\n",
    "    for item in ageDict2[key]:\n",
    "        sexDict[item] = sexDict.get(item, 0) + 1\n",
    "    age_sex_dict[key] = sexDict\n",
    "print(age_sex_dict)\n",
    "#5 seconds for all records\n",
    "#we could make a chart showing for each age group, which race has the highest counts\n",
    "#if we include NA as a category, then it is unclear whether Females really have a higher count or\n",
    "#if the NA + Males would give similar numbers to Females.\n",
    "#So, I propose that we look at the gender data organized by ethnicity\n",
    "#(eg. Black female, Black male, White female, White male etc.)"
   ]
  },
  {
   "cell_type": "code",
   "execution_count": 31,
   "id": "25df6ff3",
   "metadata": {},
   "outputs": [
    {
     "name": "stdout",
     "output_type": "stream",
     "text": [
      "{'0 - 17 years': 2157702, '18 to 49 years': 8014975, '50 to 64 years': 2944134, '65+ years': 1790839}\n"
     ]
    }
   ],
   "source": [
    "def numBySex(race):\n",
    "    numDict2 = {}\n",
    "    for key in age_sex_dict:\n",
    "        if (race in age_sex_dict[key]):\n",
    "            numDict2[key]=age_sex_dict[key][sex]\n",
    "        else:\n",
    "            numDict2[key]=0\n",
    "    return numDict2\n",
    "print(numBySex('NA'))"
   ]
  },
  {
   "cell_type": "code",
   "execution_count": 32,
   "id": "0ccb58de",
   "metadata": {},
   "outputs": [
    {
     "data": {
      "image/png": "[encoded data removed]",
      "text/plain": [
       "<Figure size 432x288 with 1 Axes>"
      ]
     },
     "metadata": {
      "needs_background": "light"
     },
     "output_type": "display_data"
    }
   ],
   "source": [
    "import matplotlib.pyplot as plt\n",
    "NA = numBySex('NA')\n",
    "\n",
    "plt.bar(range(len(NA)), list(NA.values()), align='center')\n",
    "plt.xticks(range(len(NA)), list(NA.keys()))\n",
    "\n",
    "plt.show()\n",
    "#NA Gender"
   ]
  },
  {
   "cell_type": "code",
   "execution_count": 33,
   "id": "660faf14",
   "metadata": {},
   "outputs": [
    {
     "data": {
      "image/png": "[encoded data removed]",
      "text/plain": [
       "<Figure size 432x288 with 1 Axes>"
      ]
     },
     "metadata": {
      "needs_background": "light"
     },
     "output_type": "display_data"
    }
   ],
   "source": [
    "import matplotlib.pyplot as plt\n",
    "F = numBySex('Female')\n",
    "\n",
    "plt.bar(range(len(F)), list(F.values()), align='center')\n",
    "plt.xticks(range(len(F)), list(F.keys()))\n",
    "\n",
    "plt.show()\n",
    "#Female Gender"
   ]
  },
  {
   "cell_type": "code",
   "execution_count": 34,
   "id": "abbdd00d",
   "metadata": {},
   "outputs": [
    {
     "data": {
      "image/png": "[encoded data removed]",
      "text/plain": [
       "<Figure size 432x288 with 1 Axes>"
      ]
     },
     "metadata": {
      "needs_background": "light"
     },
     "output_type": "display_data"
    }
   ],
   "source": [
    "import matplotlib.pyplot as plt\n",
    "Male = numBySex('Male')\n",
    "\n",
    "plt.bar(range(len(Male)), list(Male.values()), align='center')\n",
    "plt.xticks(range(len(Male)), list(Male.keys()))\n",
    "\n",
    "plt.show()\n",
    "#Male Gender"
   ]
  },
  {
   "cell_type": "code",
   "execution_count": null,
   "id": "224eb44a",
   "metadata": {},
   "outputs": [],
   "source": [
    "#I think we could do resident state and ethnicity w/gender"
   ]
  },
  {
   "cell_type": "code",
   "execution_count": null,
   "id": "355c092f",
   "metadata": {},
   "outputs": [],
   "source": [
    "#I think we could do symptom status and gender"
   ]
  }
 ],
 "metadata": {
  "kernelspec": {
   "display_name": "Python 3",
   "language": "python",
   "name": "python3"
  },
  "language_info": {
   "codemirror_mode": {
    "name": "ipython",
    "version": 3
   },
   "file_extension": ".py",
   "mimetype": "text/x-python",
   "name": "python",
   "nbconvert_exporter": "python",
   "pygments_lexer": "ipython3",
   "version": "3.8.8"
  }
 },
 "nbformat": 4,
 "nbformat_minor": 5
}
