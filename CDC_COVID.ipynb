{
 "cells": [
  {
   "cell_type": "code",
   "execution_count": 1,
   "id": "76a3da7f",
   "metadata": {},
   "outputs": [],
   "source": [
    "import pandas as pd"
   ]
  },
  {
   "cell_type": "code",
   "execution_count": 40,
   "id": "0ce44f1b",
   "metadata": {},
   "outputs": [],
   "source": [
    "infile = open(\"CDC_data.csv\",\"r\")\n",
    "lines = []\n",
    "headerLine = infile.readline()\n",
    "headers = headerLine.strip().split(\",\")\n",
    "#print(headers)\n",
    "count = 0\n",
    "while (True):\n",
    "    line = infile.readline()\n",
    "    if line == \"\":\n",
    "        break;\n",
    "    lines.append(line)\n",
    "    count+=1\n",
    "    #if (count > 1000000):\n",
    "        #break\n",
    "#print(lines)\n",
    "ageDict = {}\n",
    "ageDict2 = {}\n",
    "races = [\"White\",\"Black\",\"Multiple/Other\",\"Asian\",\"American Indian/Alaska Native\",\"Native Hawaiian/Other Pacific Islander\"]\n",
    "ageGroups = [\"18 to 49 years\",\"50 to 64 years\",\"0 - 17 years\",\"65+ years\"]\n",
    "sexes = [\"Female\",\"Male\",\"NA\"]\n",
    "for line in lines:\n",
    "    tokens = line.strip().split(\",\")\n",
    "    age_group = tokens[headers.index(\"age_group\")]\n",
    "    sex = tokens[headers.index(\"sex\")]\n",
    "    race = tokens[headers.index(\"race\")]\n",
    "    if (race in races and age_group in ageGroups):\n",
    "        ageDict.setdefault(age_group,[]).append(race)\n",
    "    if (sex in sexes and age_group in ageGroups):\n",
    "        ageDict2.setdefault(age_group,[]).append(sex)\n",
    "#print(ageDict)\n",
    "#1 min 19 sec for all records"
   ]
  },
  {
   "cell_type": "code",
   "execution_count": 41,
   "id": "40185c25",
   "metadata": {},
   "outputs": [
    {
     "name": "stdout",
     "output_type": "stream",
     "text": [
      "{'0 - 17 years': {'Black': 372493, 'Native Hawaiian/Other Pacific Islander': 5442, 'White': 1815380, 'American Indian/Alaska Native': 41228, 'Multiple/Other': 186481, 'Asian': 65984}, '18 to 49 years': {'Black': 1570111, 'Multiple/Other': 782495, 'White': 7453597, 'American Indian/Alaska Native': 142019, 'Asian': 401123, 'Native Hawaiian/Other Pacific Islander': 29674}, '50 to 64 years': {'White': 2937094, 'Black': 488366, 'American Indian/Alaska Native': 32504, 'Multiple/Other': 192711, 'Asian': 113692, 'Native Hawaiian/Other Pacific Islander': 5338}, '65+ years': {'Black': 265935, 'White': 2260857, 'American Indian/Alaska Native': 13622, 'Multiple/Other': 96735, 'Asian': 63876, 'Native Hawaiian/Other Pacific Islander': 1751}}\n"
     ]
    }
   ],
   "source": [
    "age_race_dict = {}\n",
    "for key in ageDict:\n",
    "    raceDict = {}\n",
    "    for item in ageDict[key]:\n",
    "        raceDict[item] = raceDict.get(item, 0) + 1\n",
    "    age_race_dict[key] = raceDict\n",
    "print(age_race_dict)\n",
    "#5 sec for all records\n",
    "#we could make a chart showing for each age group, which race has the highest counts"
   ]
  },
  {
   "cell_type": "code",
   "execution_count": 42,
   "id": "fb97be1d",
   "metadata": {},
   "outputs": [
    {
     "name": "stdout",
     "output_type": "stream",
     "text": [
      "{'0 - 17 years': {'NA': 130113, 'Female': 2135687, 'Male': 2157702}, '18 to 49 years': {'NA': 250176, 'Female': 8916678, 'Male': 8014975}, '50 to 64 years': {'NA': 136797, 'Female': 3131012, 'Male': 2944134}, '65+ years': {'Female': 2152851, 'Male': 1790839, 'NA': 116998}}\n"
     ]
    }
   ],
   "source": [
    "age_sex_dict = {}\n",
    "for key in ageDict2:\n",
    "    sexDict = {}\n",
    "    for item in ageDict2[key]:\n",
    "        sexDict[item] = sexDict.get(item, 0) + 1\n",
    "    age_sex_dict[key] = sexDict\n",
    "print(age_sex_dict)\n",
    "#5 seconds for all records\n",
    "#we could make a chart showing for each age group, which race has the highest counts\n",
    "#if we include NA as a category, then it is unclear whether Females really have a higher count or\n",
    "#if the NA + Males would give similar numbers to Females.\n",
    "#So, I propose that we look at the gender data organized by ethnicity\n",
    "#(eg. Black female, Black male, White female, White male etc.)"
   ]
  },
  {
   "cell_type": "code",
   "execution_count": null,
   "id": "224eb44a",
   "metadata": {},
   "outputs": [],
   "source": [
    "#I think we could do resident state and ethnicity w/gender"
   ]
  },
  {
   "cell_type": "code",
   "execution_count": null,
   "id": "c4ed74bd",
   "metadata": {},
   "outputs": [],
   "source": [
    "#I think we could do symptom status and gender"
   ]
  }
 ],
 "metadata": {
  "kernelspec": {
   "display_name": "Python 3",
   "language": "python",
   "name": "python3"
  },
  "language_info": {
   "codemirror_mode": {
    "name": "ipython",
    "version": 3
   },
   "file_extension": ".py",
   "mimetype": "text/x-python",
   "name": "python",
   "nbconvert_exporter": "python",
   "pygments_lexer": "ipython3",
   "version": "3.8.8"
  }
 },
 "nbformat": 4,
 "nbformat_minor": 5
}
